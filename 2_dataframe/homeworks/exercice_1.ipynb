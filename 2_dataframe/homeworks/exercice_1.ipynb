{
 "cells": [
  {
   "cell_type": "code",
   "execution_count": 2,
   "id": "c71101a5",
   "metadata": {},
   "outputs": [],
   "source": [
    "import pandas as pd\n",
    "import numpy as np"
   ]
  },
  {
   "cell_type": "code",
   "execution_count": 8,
   "id": "acb6ea3e",
   "metadata": {},
   "outputs": [],
   "source": [
    "df=pd.read_csv(r'C:\\Users\\2340649\\Documents\\GitHub\\Programmation2\\ImportationExportationDonnées\\data\\nyc_taxi_2019-01.csv',\n",
    "                \n",
    "               usecols=['passenger_count','trip_distance','payment_type','total_amount'],\n",
    "              )"
   ]
  },
  {
   "cell_type": "markdown",
   "id": "f5569954",
   "metadata": {},
   "source": [
    "j'ai supprimé index_col='VendorID', et  header=0"
   ]
  },
  {
   "cell_type": "code",
   "execution_count": 6,
   "id": "c3d2d1cf",
   "metadata": {},
   "outputs": [
    {
     "data": {
      "text/html": [
       "<div>\n",
       "<style scoped>\n",
       "    .dataframe tbody tr th:only-of-type {\n",
       "        vertical-align: middle;\n",
       "    }\n",
       "\n",
       "    .dataframe tbody tr th {\n",
       "        vertical-align: top;\n",
       "    }\n",
       "\n",
       "    .dataframe thead th {\n",
       "        text-align: right;\n",
       "    }\n",
       "</style>\n",
       "<table border=\"1\" class=\"dataframe\">\n",
       "  <thead>\n",
       "    <tr style=\"text-align: right;\">\n",
       "      <th></th>\n",
       "      <th>passenger_count</th>\n",
       "      <th>trip_distance</th>\n",
       "      <th>payment_type</th>\n",
       "      <th>total_amount</th>\n",
       "    </tr>\n",
       "  </thead>\n",
       "  <tbody>\n",
       "    <tr>\n",
       "      <th>0</th>\n",
       "      <td>1</td>\n",
       "      <td>1.50</td>\n",
       "      <td>1</td>\n",
       "      <td>9.95</td>\n",
       "    </tr>\n",
       "    <tr>\n",
       "      <th>1</th>\n",
       "      <td>1</td>\n",
       "      <td>2.60</td>\n",
       "      <td>1</td>\n",
       "      <td>16.30</td>\n",
       "    </tr>\n",
       "    <tr>\n",
       "      <th>2</th>\n",
       "      <td>3</td>\n",
       "      <td>0.00</td>\n",
       "      <td>1</td>\n",
       "      <td>5.80</td>\n",
       "    </tr>\n",
       "    <tr>\n",
       "      <th>3</th>\n",
       "      <td>5</td>\n",
       "      <td>0.00</td>\n",
       "      <td>2</td>\n",
       "      <td>7.55</td>\n",
       "    </tr>\n",
       "    <tr>\n",
       "      <th>4</th>\n",
       "      <td>5</td>\n",
       "      <td>0.00</td>\n",
       "      <td>2</td>\n",
       "      <td>55.55</td>\n",
       "    </tr>\n",
       "    <tr>\n",
       "      <th>...</th>\n",
       "      <td>...</td>\n",
       "      <td>...</td>\n",
       "      <td>...</td>\n",
       "      <td>...</td>\n",
       "    </tr>\n",
       "    <tr>\n",
       "      <th>7667787</th>\n",
       "      <td>1</td>\n",
       "      <td>4.79</td>\n",
       "      <td>1</td>\n",
       "      <td>23.16</td>\n",
       "    </tr>\n",
       "    <tr>\n",
       "      <th>7667788</th>\n",
       "      <td>1</td>\n",
       "      <td>0.00</td>\n",
       "      <td>1</td>\n",
       "      <td>0.00</td>\n",
       "    </tr>\n",
       "    <tr>\n",
       "      <th>7667789</th>\n",
       "      <td>1</td>\n",
       "      <td>0.00</td>\n",
       "      <td>1</td>\n",
       "      <td>0.00</td>\n",
       "    </tr>\n",
       "    <tr>\n",
       "      <th>7667790</th>\n",
       "      <td>1</td>\n",
       "      <td>0.00</td>\n",
       "      <td>1</td>\n",
       "      <td>0.00</td>\n",
       "    </tr>\n",
       "    <tr>\n",
       "      <th>7667791</th>\n",
       "      <td>1</td>\n",
       "      <td>0.00</td>\n",
       "      <td>1</td>\n",
       "      <td>0.00</td>\n",
       "    </tr>\n",
       "  </tbody>\n",
       "</table>\n",
       "<p>7667792 rows × 4 columns</p>\n",
       "</div>"
      ],
      "text/plain": [
       "         passenger_count  trip_distance  payment_type  total_amount\n",
       "0                      1           1.50             1          9.95\n",
       "1                      1           2.60             1         16.30\n",
       "2                      3           0.00             1          5.80\n",
       "3                      5           0.00             2          7.55\n",
       "4                      5           0.00             2         55.55\n",
       "...                  ...            ...           ...           ...\n",
       "7667787                1           4.79             1         23.16\n",
       "7667788                1           0.00             1          0.00\n",
       "7667789                1           0.00             1          0.00\n",
       "7667790                1           0.00             1          0.00\n",
       "7667791                1           0.00             1          0.00\n",
       "\n",
       "[7667792 rows x 4 columns]"
      ]
     },
     "execution_count": 6,
     "metadata": {},
     "output_type": "execute_result"
    }
   ],
   "source": [
    "df"
   ]
  },
  {
   "cell_type": "code",
   "execution_count": 6,
   "id": "5a6c2302",
   "metadata": {},
   "outputs": [
    {
     "name": "stdout",
     "output_type": "stream",
     "text": [
      "Nombre de déplacement ayant plus que 8 passagers est -> 9\n"
     ]
    }
   ],
   "source": [
    "print(\"Nombre de déplacements ayant plus que 8 passagers est ->\",\n",
    "      df[df['passenger_count'] > 8]['passenger_count'].count())"
   ]
  },
  {
   "cell_type": "code",
   "execution_count": 8,
   "id": "d418d2ba",
   "metadata": {},
   "outputs": [
    {
     "name": "stdout",
     "output_type": "stream",
     "text": [
      "Nombre de déplacements ayant aucun passager est -> 117381\n"
     ]
    }
   ],
   "source": [
    "print(\"Nombre de déplacements ayant aucun passager est ->\",\n",
    "      df[df['passenger_count'] == 0]['passenger_count'].count())"
   ]
  },
  {
   "cell_type": "code",
   "execution_count": 17,
   "id": "bfa9f0de",
   "metadata": {},
   "outputs": [
    {
     "name": "stdout",
     "output_type": "stream",
     "text": [
      "Nombre de déplacements payés en espèce et qui coutent > 1000 dollars -> 5\n"
     ]
    }
   ],
   "source": [
    "print(\"Nombre de déplacements payés en espèce et qui coutent > 1000 dollars ->\",\n",
    "      df[(df['payment_type'] == 2) & (df['total_amount'] > 1000)]['passenger_count'].count())"
   ]
  },
  {
   "cell_type": "code",
   "execution_count": 11,
   "id": "9066231d",
   "metadata": {},
   "outputs": [
    {
     "name": "stdout",
     "output_type": "stream",
     "text": [
      "Nombre de déplacements qui coute moins de 0 dollars -> 7131\n"
     ]
    }
   ],
   "source": [
    "print(\"Nombre de déplacements qui coute moins de 0 dollars ->\",\n",
    "      df[df['total_amount'] < 0]['passenger_count'].count())"
   ]
  },
  {
   "cell_type": "code",
   "execution_count": 13,
   "id": "cff6125d",
   "metadata": {},
   "outputs": [],
   "source": [
    "cout_moyen=df['total_amount'].mean()\n",
    "distance_moyenne=df['trip_distance'].mean()"
   ]
  },
  {
   "cell_type": "code",
   "execution_count": 14,
   "id": "7ce2a2ee",
   "metadata": {},
   "outputs": [
    {
     "data": {
      "text/plain": [
       "15.68222215991253"
      ]
     },
     "execution_count": 14,
     "metadata": {},
     "output_type": "execute_result"
    }
   ],
   "source": [
    "cout_moyen"
   ]
  },
  {
   "cell_type": "code",
   "execution_count": 15,
   "id": "ab8f8bf8",
   "metadata": {},
   "outputs": [
    {
     "data": {
      "text/plain": [
       "2.8010838491706607"
      ]
     },
     "execution_count": 15,
     "metadata": {},
     "output_type": "execute_result"
    }
   ],
   "source": [
    "distance_moyenne"
   ]
  },
  {
   "cell_type": "code",
   "execution_count": 16,
   "id": "2cf4c6c3",
   "metadata": {},
   "outputs": [
    {
     "name": "stdout",
     "output_type": "stream",
     "text": [
      "Nombre de déplacements ayant une distance < à la moyenne et un coût > à la moyenne -> 411255\n"
     ]
    }
   ],
   "source": [
    "print(\"Nombre de déplacements ayant une distance < à la moyenne et un coût > à la moyenne ->\",\n",
    "      df[(df['trip_distance'] <distance_moyenne) & (df['total_amount'] > cout_moyen)]['passenger_count'].count())"
   ]
  },
  {
   "cell_type": "markdown",
   "id": "a89d1e55",
   "metadata": {},
   "source": [
    "les gent ont utilisé l'argent liquide en 2020 beaucoup moins que en 2020"
   ]
  },
  {
   "cell_type": "code",
   "execution_count": null,
   "id": "916b7a44",
   "metadata": {},
   "outputs": [],
   "source": []
  }
 ],
 "metadata": {
  "kernelspec": {
   "display_name": "Python 3 (ipykernel)",
   "language": "python",
   "name": "python3"
  },
  "language_info": {
   "codemirror_mode": {
    "name": "ipython",
    "version": 3
   },
   "file_extension": ".py",
   "mimetype": "text/x-python",
   "name": "python",
   "nbconvert_exporter": "python",
   "pygments_lexer": "ipython3",
   "version": "3.11.3"
  }
 },
 "nbformat": 4,
 "nbformat_minor": 5
}
