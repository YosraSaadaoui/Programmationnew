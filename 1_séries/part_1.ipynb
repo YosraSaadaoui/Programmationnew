{
 "cells": [
  {
   "cell_type": "code",
   "execution_count": 1,
   "id": "ab818645",
   "metadata": {},
   "outputs": [
    {
     "name": "stdout",
     "output_type": "stream",
     "text": [
      "0    10\n",
      "1    20\n",
      "2    30\n",
      "3    40\n",
      "4    50\n",
      "dtype: int64\n"
     ]
    }
   ],
   "source": [
    "import pandas as pd\n",
    "s= pd.Series([10,20,30,40,50])\n",
    "print(s)"
   ]
  },
  {
   "cell_type": "code",
   "execution_count": 2,
   "id": "315127f4",
   "metadata": {},
   "outputs": [
    {
     "name": "stdout",
     "output_type": "stream",
     "text": [
      "0    10\n",
      "1    20\n",
      "2    30\n",
      "3    40\n",
      "4    50\n",
      "dtype: int64\n"
     ]
    }
   ],
   "source": [
    "from pandas import Series\n",
    "s= Series([10,20,30,40,50])\n",
    "print(s)"
   ]
  },
  {
   "cell_type": "code",
   "execution_count": 3,
   "id": "8233b01a",
   "metadata": {},
   "outputs": [],
   "source": [
    "import numpy as np\n",
    "arr= np.random.randint(0,100,10)"
   ]
  },
  {
   "cell_type": "code",
   "execution_count": 4,
   "id": "3ed279e3",
   "metadata": {},
   "outputs": [
    {
     "name": "stdout",
     "output_type": "stream",
     "text": [
      "[43 70 16  5 66 74  4 88 23 20]\n",
      "<class 'numpy.ndarray'>\n"
     ]
    }
   ],
   "source": [
    "print(arr)\n",
    "print(type(arr))"
   ]
  },
  {
   "cell_type": "code",
   "execution_count": 5,
   "id": "dd149f65",
   "metadata": {},
   "outputs": [],
   "source": [
    "arr=np.random.randint(70,101,10)"
   ]
  },
  {
   "cell_type": "code",
   "execution_count": 7,
   "id": "76e22c23",
   "metadata": {},
   "outputs": [
    {
     "data": {
      "text/plain": [
       "array([74, 93, 92, 73, 90, 92, 96, 94, 81, 88])"
      ]
     },
     "execution_count": 7,
     "metadata": {},
     "output_type": "execute_result"
    }
   ],
   "source": [
    "arr"
   ]
  },
  {
   "cell_type": "code",
   "execution_count": 11,
   "id": "157e74a3",
   "metadata": {},
   "outputs": [],
   "source": [
    "np.random.seed(0)\n",
    "arr=np.random.randint(70,101,10)\n",
    "s=Series(arr)"
   ]
  },
  {
   "cell_type": "code",
   "execution_count": 9,
   "id": "92464549",
   "metadata": {},
   "outputs": [
    {
     "data": {
      "text/plain": [
       "0    82\n",
       "1    85\n",
       "2    91\n",
       "3    70\n",
       "4    73\n",
       "5    97\n",
       "6    73\n",
       "7    77\n",
       "8    79\n",
       "9    89\n",
       "dtype: int32"
      ]
     },
     "execution_count": 9,
     "metadata": {},
     "output_type": "execute_result"
    }
   ],
   "source": [
    "s"
   ]
  },
  {
   "cell_type": "code",
   "execution_count": 10,
   "id": "beac4b46",
   "metadata": {},
   "outputs": [
    {
     "data": {
      "text/plain": [
       "sept    82\n",
       "Oct     85\n",
       "Nov     91\n",
       "Dec     70\n",
       "Jan     73\n",
       "Feb     97\n",
       "Mar     73\n",
       "Apr     77\n",
       "Mai     79\n",
       "Jun     89\n",
       "dtype: int32"
      ]
     },
     "execution_count": 10,
     "metadata": {},
     "output_type": "execute_result"
    }
   ],
   "source": [
    "s.index='sept Oct Nov Dec Jan Feb Mar Apr Mai Jun'.split()\n",
    "s"
   ]
  },
  {
   "cell_type": "code",
   "execution_count": 14,
   "id": "ab82054a",
   "metadata": {},
   "outputs": [
    {
     "data": {
      "text/plain": [
       "sept    82\n",
       "Oct     85\n",
       "Nov     91\n",
       "Dec     70\n",
       "Jan     73\n",
       "Feb     97\n",
       "Mar     73\n",
       "Apr     77\n",
       "Mai     79\n",
       "Jun     89\n",
       "dtype: int32"
      ]
     },
     "execution_count": 14,
     "metadata": {},
     "output_type": "execute_result"
    }
   ],
   "source": [
    "s.index=['sept','Oct','Nov','Dec','Jan','Feb','Mar','Apr','Mai','Jun']\n",
    "s"
   ]
  },
  {
   "cell_type": "code",
   "execution_count": 15,
   "id": "b36ce743",
   "metadata": {},
   "outputs": [
    {
     "data": {
      "text/plain": [
       "sept    82\n",
       "Oct     85\n",
       "Nov     91\n",
       "Dec     70\n",
       "Jan     73\n",
       "Feb     97\n",
       "Mar     73\n",
       "Apr     77\n",
       "Mai     79\n",
       "Jun     89\n",
       "dtype: int32"
      ]
     },
     "execution_count": 15,
     "metadata": {},
     "output_type": "execute_result"
    }
   ],
   "source": [
    "np.random.seed(0)\n",
    "arr1=np.random.randint(70,101,10)\n",
    "index1='sept Oct Nov Dec Jan Feb Mar Apr Mai Jun'.split()\n",
    "s=Series(arr1,index1)\n",
    "s"
   ]
  },
  {
   "cell_type": "code",
   "execution_count": 16,
   "id": "4a956968",
   "metadata": {},
   "outputs": [
    {
     "name": "stdout",
     "output_type": "stream",
     "text": [
      "yearly sum: 816\n",
      "Serie shape: (10,)\n",
      "Serie shape[0]: 10\n",
      "Number of elements in series(how many nan_null values are in the serie): 10\n",
      "yearly avearage: 81.6\n",
      "yearly avearage: 81.6\n"
     ]
    }
   ],
   "source": [
    "print(f'yearly sum: {s.sum()}')\n",
    "print(f'Serie shape: {s.shape}')\n",
    "print(f'Serie shape[0]: {s.shape[0]}')\n",
    "print(f'Number of elements in series(how many nan_null values are in the serie): {s.count()}')\n",
    "print(f'yearly avearage: {s.sum()/s.count()}')\n",
    "print(f'yearly avearage: {s.mean()}')"
   ]
  },
  {
   "cell_type": "code",
   "execution_count": 18,
   "id": "7b84e5d0",
   "metadata": {},
   "outputs": [
    {
     "name": "stdout",
     "output_type": "stream",
     "text": [
      "First semestrer: 80.2\n",
      "Second semestrer: 83.0\n"
     ]
    }
   ],
   "source": [
    "print(f'First semestrer: {s[:5].mean()}')\n",
    "print(f'Second semestrer: {s[5:].mean()}')"
   ]
  },
  {
   "cell_type": "code",
   "execution_count": 19,
   "id": "56c87b07",
   "metadata": {},
   "outputs": [
    {
     "name": "stdout",
     "output_type": "stream",
     "text": [
      "First semestrer: 80.2\n",
      "Second semestrer: 83.0\n"
     ]
    }
   ],
   "source": [
    "print(f'First semestrer: {s.iloc[:5].mean()}')\n",
    "print(f'Second semestrer: {s.iloc[5:].mean()}')"
   ]
  },
  {
   "cell_type": "code",
   "execution_count": 24,
   "id": "e0f01a2c",
   "metadata": {},
   "outputs": [],
   "source": [
    "first_half_average = s.loc['sept':'Jan'].mean()\n",
    "second_half_average = s.loc['Feb':'Jun'].mean()"
   ]
  },
  {
   "cell_type": "code",
   "execution_count": 25,
   "id": "125e9608",
   "metadata": {},
   "outputs": [
    {
     "name": "stdout",
     "output_type": "stream",
     "text": [
      "First semestrer: 80.2\n",
      "Second semestrer: 83.0\n"
     ]
    }
   ],
   "source": [
    "print(f'First semestrer: {first_half_average}')\n",
    "print(f'Second semestrer: {second_half_average}')"
   ]
  },
  {
   "cell_type": "code",
   "execution_count": 26,
   "id": "b4a3ea84",
   "metadata": {},
   "outputs": [
    {
     "name": "stdout",
     "output_type": "stream",
     "text": [
      "Improvement: 2.799999999999997\n"
     ]
    }
   ],
   "source": [
    "print(f'Improvement: { second_half_average - first_half_average}')"
   ]
  },
  {
   "cell_type": "code",
   "execution_count": null,
   "id": "7a28236d",
   "metadata": {},
   "outputs": [],
   "source": []
  }
 ],
 "metadata": {
  "kernelspec": {
   "display_name": "Python 3 (ipykernel)",
   "language": "python",
   "name": "python3"
  },
  "language_info": {
   "codemirror_mode": {
    "name": "ipython",
    "version": 3
   },
   "file_extension": ".py",
   "mimetype": "text/x-python",
   "name": "python",
   "nbconvert_exporter": "python",
   "pygments_lexer": "ipython3",
   "version": "3.11.3"
  }
 },
 "nbformat": 4,
 "nbformat_minor": 5
}
