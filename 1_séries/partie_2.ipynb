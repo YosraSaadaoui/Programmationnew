{
 "cells": [
  {
   "cell_type": "code",
   "execution_count": 12,
   "id": "a39ab3d2",
   "metadata": {},
   "outputs": [
    {
     "name": "stdout",
     "output_type": "stream",
     "text": [
      "0    44\n",
      "1    47\n",
      "2    64\n",
      "3    67\n",
      "4    67\n",
      "5     9\n",
      "6    83\n",
      "7    21\n",
      "8    36\n",
      "9    87\n",
      "dtype: int32\n",
      "0    4\n",
      "1    4\n",
      "2    6\n",
      "3    6\n",
      "4    6\n",
      "5    0\n",
      "6    8\n",
      "7    2\n",
      "8    3\n",
      "9    8\n",
      "dtype: int8\n"
     ]
    },
    {
     "data": {
      "text/plain": [
       "count    10.00000\n",
       "mean      4.70000\n",
       "std       2.58414\n",
       "min       0.00000\n",
       "25%       3.25000\n",
       "50%       5.00000\n",
       "75%       6.00000\n",
       "max       8.00000\n",
       "dtype: float64"
      ]
     },
     "execution_count": 12,
     "metadata": {},
     "output_type": "execute_result"
    }
   ],
   "source": [
    "import numpy as np\n",
    "import pandas as pd\n",
    "np.random.seed(0)\n",
    "arr= np.random.randint(0,101,10)\n",
    "s=pd.Series(arr)\n",
    "print(s)\n",
    "s=s/10\n",
    "s=s.astype(np.int8)\n",
    "print(s)\n",
    "s.describe()"
   ]
  },
  {
   "cell_type": "code",
   "execution_count": 35,
   "id": "74b3e3e6",
   "metadata": {},
   "outputs": [
    {
     "data": {
      "text/plain": [
       "0        178.169287\n",
       "1         40.415878\n",
       "2         98.852536\n",
       "3        226.330213\n",
       "4        188.623357\n",
       "            ...    \n",
       "99995    -34.109191\n",
       "99996   -204.883392\n",
       "99997     73.344380\n",
       "99998   -117.950883\n",
       "99999   -129.805972\n",
       "Length: 100000, dtype: float64"
      ]
     },
     "execution_count": 35,
     "metadata": {},
     "output_type": "execute_result"
    }
   ],
   "source": [
    "import numpy as np\n",
    "import pandas as pd\n",
    "np.random.seed(0)\n",
    "arr= np.random.normal(0,101,100_000)\n",
    "s=pd.Series(arr)\n",
    "s"
   ]
  },
  {
   "cell_type": "code",
   "execution_count": 39,
   "id": "23485edb",
   "metadata": {},
   "outputs": [
    {
     "name": "stdout",
     "output_type": "stream",
     "text": [
      "0.15924675132065927\n",
      "100.7318121308851\n"
     ]
    }
   ],
   "source": [
    "meanS=s.mean()\n",
    "print(meanS)\n",
    "stdS=s.std()\n",
    "print(stdS)"
   ]
  },
  {
   "cell_type": "code",
   "execution_count": 42,
   "id": "9f51e781",
   "metadata": {},
   "outputs": [
    {
     "name": "stdout",
     "output_type": "stream",
     "text": [
      "68.463\n"
     ]
    }
   ],
   "source": [
    "s1=s[(s>=meanS-stdS)&(s<=meanS+stdS)]\n",
    "print(s1.count()/100000*100)"
   ]
  },
  {
   "cell_type": "code",
   "execution_count": null,
   "id": "bb6af4b1",
   "metadata": {},
   "outputs": [],
   "source": []
  }
 ],
 "metadata": {
  "kernelspec": {
   "display_name": "Python 3 (ipykernel)",
   "language": "python",
   "name": "python3"
  },
  "language_info": {
   "codemirror_mode": {
    "name": "ipython",
    "version": 3
   },
   "file_extension": ".py",
   "mimetype": "text/x-python",
   "name": "python",
   "nbconvert_exporter": "python",
   "pygments_lexer": "ipython3",
   "version": "3.11.3"
  }
 },
 "nbformat": 4,
 "nbformat_minor": 5
}
