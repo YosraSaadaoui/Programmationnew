{
 "cells": [
  {
   "cell_type": "markdown",
   "id": "34407a58",
   "metadata": {},
   "source": [
    "# TP1  programmation2-----------------------------------------------------Yousra Saadaoui"
   ]
  },
  {
   "cell_type": "markdown",
   "id": "23e7f7f0",
   "metadata": {},
   "source": [
    "### Q1: Charger les données de la ville de New York de la fin 2018 et de début 2019 contenues dans le fichier températures.txt dans une série"
   ]
  },
  {
   "cell_type": "code",
   "execution_count": 48,
   "id": "f04f9ce8",
   "metadata": {},
   "outputs": [],
   "source": [
    "# importation de la bibliothèque pandas\n",
    "import pandas as pd\n",
    "# importation de la bibliothèque numpy\n",
    "import numpy as np"
   ]
  },
  {
   "cell_type": "code",
   "execution_count": 46,
   "id": "b2d84a47",
   "metadata": {},
   "outputs": [],
   "source": [
    "# Charger les données du fichier temperatures.txt dans le Data Frame Data\n",
    "data=pd.read_csv('C:/Users/thinkbook/Desktop/programmation2/TP1/data/temperatures.txt')"
   ]
  },
  {
   "cell_type": "code",
   "execution_count": 3,
   "id": "74edf48f",
   "metadata": {},
   "outputs": [],
   "source": [
    "# Création de la série temp à partir du Data Frame data\n",
    "temp=data.squeeze()"
   ]
  },
  {
   "cell_type": "markdown",
   "id": "f1a7562b",
   "metadata": {},
   "source": [
    "### Q2: Créer un Data farame avec deux colonnes 'temp' et 'hour'"
   ]
  },
  {
   "cell_type": "code",
   "execution_count": 4,
   "id": "6d2d67e8",
   "metadata": {},
   "outputs": [],
   "source": [
    "# Création d'une liste 'hour' \n",
    "hour = [0, 3, 6, 9,12,15,18,21]*91\n",
    "df = pd.DataFrame({'temp':temp,'hour':hour})\n",
    "df"
   ]
  },
  {
   "cell_type": "markdown",
   "id": "50b3a218",
   "metadata": {},
   "source": [
    "### Q3: Calculer les valeurs moyenne et médiane des températures"
   ]
  },
  {
   "cell_type": "code",
   "execution_count": 26,
   "id": "8309daed",
   "metadata": {},
   "outputs": [
    {
     "name": "stdout",
     "output_type": "stream",
     "text": [
      "La température moyenne est:  -1.0508241758241759\n"
     ]
    }
   ],
   "source": [
    "temp_moyenne_vraie=df['temp'].mean()\n",
    "print(\"La température moyenne est: \", temp_moyenne_vraie)"
   ]
  },
  {
   "cell_type": "code",
   "execution_count": 27,
   "id": "053e8760",
   "metadata": {},
   "outputs": [
    {
     "name": "stdout",
     "output_type": "stream",
     "text": [
      "La température moyenne est:  0.0\n"
     ]
    }
   ],
   "source": [
    "temp_mediane_vraie=df['temp'].median()\n",
    "print(\"La température moyenne est: \", temp_mediane_vraie)"
   ]
  },
  {
   "cell_type": "markdown",
   "id": "8fcfe9e4",
   "metadata": {},
   "source": [
    "### Q4: Définir toutes les valeurs de 3 et 6 heures du matin a Nan"
   ]
  },
  {
   "cell_type": "code",
   "execution_count": 42,
   "id": "2631e7b6",
   "metadata": {},
   "outputs": [],
   "source": [
    "# Faire une copie de df dans df1 pour garder les valeurs initiales de df et faire la manipulation sur le nouveau  df\n",
    "df1=df.copy()\n",
    "df1.loc[(df['hour'] == 3) | (df['hour'] ==6),'temp']=np.nan\n",
    "#df1"
   ]
  },
  {
   "cell_type": "markdown",
   "id": "53998c8b",
   "metadata": {},
   "source": [
    "### Q5: Répéter Q4 en utilisant la méthode between()"
   ]
  },
  {
   "cell_type": "code",
   "execution_count": 51,
   "id": "32a4c012",
   "metadata": {},
   "outputs": [],
   "source": [
    "df2=df.copy()\n",
    "df2.loc[df['hour'].between(3,6),'temp']=np.nan\n",
    "#df2"
   ]
  },
  {
   "cell_type": "markdown",
   "id": "578ef0de",
   "metadata": {},
   "source": [
    "### Q6: Interpolation"
   ]
  },
  {
   "cell_type": "markdown",
   "id": "a6f62690",
   "metadata": {},
   "source": [
    "### a) Interpolation linéaire"
   ]
  },
  {
   "cell_type": "code",
   "execution_count": 50,
   "id": "8680b81b",
   "metadata": {},
   "outputs": [],
   "source": [
    "df3=df['temp'].interpolate()\n",
    "#df3"
   ]
  },
  {
   "cell_type": "code",
   "execution_count": 38,
   "id": "4d42e60d",
   "metadata": {},
   "outputs": [
    {
     "name": "stdout",
     "output_type": "stream",
     "text": [
      "La température moyenne (méthode linéaire) est:  -1.0508241758241759\n"
     ]
    }
   ],
   "source": [
    "temp_moyenne_linear=df3.mean()\n",
    "print(\"La température moyenne (méthode linéaire) est: \", temp_moyenne_linear)"
   ]
  },
  {
   "cell_type": "code",
   "execution_count": 49,
   "id": "ec28cd22",
   "metadata": {},
   "outputs": [
    {
     "name": "stdout",
     "output_type": "stream",
     "text": [
      "La température moyenne (méthode linéaire) est:  0.0\n"
     ]
    }
   ],
   "source": [
    "temp_mediane_linear=df3.median()\n",
    "print(\"La température moyenne (méthode linéaire) est: \", temp_mediane_linear)"
   ]
  },
  {
   "cell_type": "markdown",
   "id": "b4b4f3a5",
   "metadata": {},
   "source": [
    "### b) Interpolation nearest"
   ]
  },
  {
   "cell_type": "code",
   "execution_count": 44,
   "id": "cdf75dec",
   "metadata": {},
   "outputs": [],
   "source": [
    "df4=df['temp'].interpolate(method='nearest')\n",
    "#df4"
   ]
  },
  {
   "cell_type": "code",
   "execution_count": 40,
   "id": "bce6fc9d",
   "metadata": {},
   "outputs": [
    {
     "name": "stdout",
     "output_type": "stream",
     "text": [
      "La température moyenne (méthode nearest) est:  -1.0508241758241759\n"
     ]
    }
   ],
   "source": [
    "temp_moyenne_nearest=df4.mean()\n",
    "print(\"La température moyenne (méthode nearest) est: \", temp_moyenne_nearest)"
   ]
  },
  {
   "cell_type": "code",
   "execution_count": 41,
   "id": "cc6a433a",
   "metadata": {},
   "outputs": [
    {
     "name": "stdout",
     "output_type": "stream",
     "text": [
      "La température moyenne (méthode nearest) est:  0.0\n"
     ]
    }
   ],
   "source": [
    "temp_mediane_nearest=df4.median()\n",
    "print(\"La température moyenne (méthode nearest) est: \", temp_mediane_nearest)"
   ]
  }
 ],
 "metadata": {
  "kernelspec": {
   "display_name": "Python 3 (ipykernel)",
   "language": "python",
   "name": "python3"
  },
  "language_info": {
   "codemirror_mode": {
    "name": "ipython",
    "version": 3
   },
   "file_extension": ".py",
   "mimetype": "text/x-python",
   "name": "python",
   "nbconvert_exporter": "python",
   "pygments_lexer": "ipython3",
   "version": "3.11.3"
  }
 },
 "nbformat": 4,
 "nbformat_minor": 5
}
