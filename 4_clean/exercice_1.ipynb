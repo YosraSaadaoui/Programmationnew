{
 "cells": [
  {
   "cell_type": "code",
   "execution_count": 1,
   "id": "da190cc5",
   "metadata": {},
   "outputs": [],
   "source": [
    "import pandas as pd \n",
    "import numpy as np"
   ]
  },
  {
   "cell_type": "code",
   "execution_count": 3,
   "id": "7a2852dd",
   "metadata": {},
   "outputs": [],
   "source": [
    "df=pd.read_csv(r'C:\\Users\\thinkbook\\Documents\\GitHub\\Programmation2\\data\\nyc-parking-violations-2020.csv',\n",
    "                \n",
    "               usecols=['Plate ID','Registration State','Vehicle Make','Vehicle Color','Violation Time','Street Name'],\n",
    "              )"
   ]
  },
  {
   "cell_type": "code",
   "execution_count": 4,
   "id": "6e7fce73",
   "metadata": {},
   "outputs": [
    {
     "data": {
      "text/html": [
       "<div>\n",
       "<style scoped>\n",
       "    .dataframe tbody tr th:only-of-type {\n",
       "        vertical-align: middle;\n",
       "    }\n",
       "\n",
       "    .dataframe tbody tr th {\n",
       "        vertical-align: top;\n",
       "    }\n",
       "\n",
       "    .dataframe thead th {\n",
       "        text-align: right;\n",
       "    }\n",
       "</style>\n",
       "<table border=\"1\" class=\"dataframe\">\n",
       "  <thead>\n",
       "    <tr style=\"text-align: right;\">\n",
       "      <th></th>\n",
       "      <th>Plate ID</th>\n",
       "      <th>Registration State</th>\n",
       "      <th>Vehicle Make</th>\n",
       "      <th>Violation Time</th>\n",
       "      <th>Street Name</th>\n",
       "      <th>Vehicle Color</th>\n",
       "    </tr>\n",
       "  </thead>\n",
       "  <tbody>\n",
       "    <tr>\n",
       "      <th>0</th>\n",
       "      <td>J58JKX</td>\n",
       "      <td>NJ</td>\n",
       "      <td>HONDA</td>\n",
       "      <td>0523P</td>\n",
       "      <td>43 ST</td>\n",
       "      <td>BK</td>\n",
       "    </tr>\n",
       "    <tr>\n",
       "      <th>1</th>\n",
       "      <td>KRE6058</td>\n",
       "      <td>PA</td>\n",
       "      <td>ME/BE</td>\n",
       "      <td>0428P</td>\n",
       "      <td>UNION ST</td>\n",
       "      <td>BLK</td>\n",
       "    </tr>\n",
       "    <tr>\n",
       "      <th>2</th>\n",
       "      <td>444326R</td>\n",
       "      <td>NJ</td>\n",
       "      <td>LEXUS</td>\n",
       "      <td>0625A</td>\n",
       "      <td>CLERMONT AVENUE</td>\n",
       "      <td>BLACK</td>\n",
       "    </tr>\n",
       "    <tr>\n",
       "      <th>3</th>\n",
       "      <td>F728330</td>\n",
       "      <td>OH</td>\n",
       "      <td>CHEVR</td>\n",
       "      <td>1106A</td>\n",
       "      <td>DIVISION AVE</td>\n",
       "      <td>NaN</td>\n",
       "    </tr>\n",
       "    <tr>\n",
       "      <th>4</th>\n",
       "      <td>FMY9090</td>\n",
       "      <td>NY</td>\n",
       "      <td>JEEP</td>\n",
       "      <td>1253A</td>\n",
       "      <td>GRAND ST</td>\n",
       "      <td>GREY</td>\n",
       "    </tr>\n",
       "    <tr>\n",
       "      <th>...</th>\n",
       "      <td>...</td>\n",
       "      <td>...</td>\n",
       "      <td>...</td>\n",
       "      <td>...</td>\n",
       "      <td>...</td>\n",
       "      <td>...</td>\n",
       "    </tr>\n",
       "    <tr>\n",
       "      <th>12495729</th>\n",
       "      <td>62161MM</td>\n",
       "      <td>NY</td>\n",
       "      <td>FORD</td>\n",
       "      <td>1111A</td>\n",
       "      <td>3RD AVE</td>\n",
       "      <td>BR</td>\n",
       "    </tr>\n",
       "    <tr>\n",
       "      <th>12495730</th>\n",
       "      <td>GYE7330</td>\n",
       "      <td>NY</td>\n",
       "      <td>HONDA</td>\n",
       "      <td>0444P</td>\n",
       "      <td>PELHAM PARK DR</td>\n",
       "      <td>BLK</td>\n",
       "    </tr>\n",
       "    <tr>\n",
       "      <th>12495731</th>\n",
       "      <td>HNY4802</td>\n",
       "      <td>NY</td>\n",
       "      <td>FORD</td>\n",
       "      <td>0210A</td>\n",
       "      <td>LYDIG AVE</td>\n",
       "      <td>GY</td>\n",
       "    </tr>\n",
       "    <tr>\n",
       "      <th>12495732</th>\n",
       "      <td>T687081C</td>\n",
       "      <td>NY</td>\n",
       "      <td>TOYOT</td>\n",
       "      <td>0225P</td>\n",
       "      <td>E 68 STREET</td>\n",
       "      <td>BLK</td>\n",
       "    </tr>\n",
       "    <tr>\n",
       "      <th>12495733</th>\n",
       "      <td>3497ZN</td>\n",
       "      <td>WA</td>\n",
       "      <td>UTILI</td>\n",
       "      <td>0456A</td>\n",
       "      <td>W/S/O 182 STREET</td>\n",
       "      <td>WHITE</td>\n",
       "    </tr>\n",
       "  </tbody>\n",
       "</table>\n",
       "<p>12495734 rows × 6 columns</p>\n",
       "</div>"
      ],
      "text/plain": [
       "          Plate ID Registration State Vehicle Make Violation Time  \\\n",
       "0           J58JKX                 NJ        HONDA          0523P   \n",
       "1          KRE6058                 PA        ME/BE          0428P   \n",
       "2          444326R                 NJ        LEXUS          0625A   \n",
       "3          F728330                 OH        CHEVR          1106A   \n",
       "4          FMY9090                 NY         JEEP          1253A   \n",
       "...            ...                ...          ...            ...   \n",
       "12495729   62161MM                 NY         FORD          1111A   \n",
       "12495730   GYE7330                 NY        HONDA          0444P   \n",
       "12495731   HNY4802                 NY         FORD          0210A   \n",
       "12495732  T687081C                 NY        TOYOT          0225P   \n",
       "12495733    3497ZN                 WA        UTILI          0456A   \n",
       "\n",
       "               Street Name Vehicle Color  \n",
       "0                    43 ST            BK  \n",
       "1                 UNION ST           BLK  \n",
       "2          CLERMONT AVENUE         BLACK  \n",
       "3             DIVISION AVE           NaN  \n",
       "4                 GRAND ST          GREY  \n",
       "...                    ...           ...  \n",
       "12495729           3RD AVE            BR  \n",
       "12495730    PELHAM PARK DR           BLK  \n",
       "12495731         LYDIG AVE            GY  \n",
       "12495732       E 68 STREET           BLK  \n",
       "12495733  W/S/O 182 STREET         WHITE  \n",
       "\n",
       "[12495734 rows x 6 columns]"
      ]
     },
     "execution_count": 4,
     "metadata": {},
     "output_type": "execute_result"
    }
   ],
   "source": [
    "df"
   ]
  },
  {
   "cell_type": "code",
   "execution_count": null,
   "id": "df125fb1",
   "metadata": {},
   "outputs": [],
   "source": [
    "### question 1 combien de lignes contient le data frame "
   ]
  },
  {
   "cell_type": "code",
   "execution_count": 5,
   "id": "f172617d",
   "metadata": {},
   "outputs": [
    {
     "data": {
      "text/plain": [
       "12495734"
      ]
     },
     "execution_count": 5,
     "metadata": {},
     "output_type": "execute_result"
    }
   ],
   "source": [
    "len(df)"
   ]
  },
  {
   "cell_type": "code",
   "execution_count": 7,
   "id": "faac299c",
   "metadata": {},
   "outputs": [
    {
     "data": {
      "text/plain": [
       "12495734"
      ]
     },
     "execution_count": 7,
     "metadata": {},
     "output_type": "execute_result"
    }
   ],
   "source": [
    "len(df.index)"
   ]
  },
  {
   "cell_type": "code",
   "execution_count": 9,
   "id": "2c450ebd",
   "metadata": {},
   "outputs": [
    {
     "data": {
      "text/plain": [
       "12495734"
      ]
     },
     "execution_count": 9,
     "metadata": {},
     "output_type": "execute_result"
    }
   ],
   "source": [
    "df.shape[0]"
   ]
  },
  {
   "cell_type": "markdown",
   "id": "76005868",
   "metadata": {},
   "source": [
    "### question 2 supprimer les lignes contenant des données manquantes"
   ]
  },
  {
   "cell_type": "code",
   "execution_count": 27,
   "id": "525254c3",
   "metadata": {},
   "outputs": [],
   "source": [
    "df2=df.dropna()"
   ]
  },
  {
   "cell_type": "code",
   "execution_count": 28,
   "id": "06200a5d",
   "metadata": {},
   "outputs": [
    {
     "data": {
      "text/html": [
       "<div>\n",
       "<style scoped>\n",
       "    .dataframe tbody tr th:only-of-type {\n",
       "        vertical-align: middle;\n",
       "    }\n",
       "\n",
       "    .dataframe tbody tr th {\n",
       "        vertical-align: top;\n",
       "    }\n",
       "\n",
       "    .dataframe thead th {\n",
       "        text-align: right;\n",
       "    }\n",
       "</style>\n",
       "<table border=\"1\" class=\"dataframe\">\n",
       "  <thead>\n",
       "    <tr style=\"text-align: right;\">\n",
       "      <th></th>\n",
       "      <th>Plate ID</th>\n",
       "      <th>Registration State</th>\n",
       "      <th>Vehicle Make</th>\n",
       "      <th>Violation Time</th>\n",
       "      <th>Street Name</th>\n",
       "      <th>Vehicle Color</th>\n",
       "    </tr>\n",
       "  </thead>\n",
       "  <tbody>\n",
       "    <tr>\n",
       "      <th>0</th>\n",
       "      <td>J58JKX</td>\n",
       "      <td>NJ</td>\n",
       "      <td>HONDA</td>\n",
       "      <td>0523P</td>\n",
       "      <td>43 ST</td>\n",
       "      <td>BK</td>\n",
       "    </tr>\n",
       "    <tr>\n",
       "      <th>1</th>\n",
       "      <td>KRE6058</td>\n",
       "      <td>PA</td>\n",
       "      <td>ME/BE</td>\n",
       "      <td>0428P</td>\n",
       "      <td>UNION ST</td>\n",
       "      <td>BLK</td>\n",
       "    </tr>\n",
       "    <tr>\n",
       "      <th>2</th>\n",
       "      <td>444326R</td>\n",
       "      <td>NJ</td>\n",
       "      <td>LEXUS</td>\n",
       "      <td>0625A</td>\n",
       "      <td>CLERMONT AVENUE</td>\n",
       "      <td>BLACK</td>\n",
       "    </tr>\n",
       "    <tr>\n",
       "      <th>4</th>\n",
       "      <td>FMY9090</td>\n",
       "      <td>NY</td>\n",
       "      <td>JEEP</td>\n",
       "      <td>1253A</td>\n",
       "      <td>GRAND ST</td>\n",
       "      <td>GREY</td>\n",
       "    </tr>\n",
       "    <tr>\n",
       "      <th>5</th>\n",
       "      <td>KDG0693</td>\n",
       "      <td>PA</td>\n",
       "      <td>HYUN</td>\n",
       "      <td>0525P</td>\n",
       "      <td>B 99 ST</td>\n",
       "      <td>GY</td>\n",
       "    </tr>\n",
       "    <tr>\n",
       "      <th>...</th>\n",
       "      <td>...</td>\n",
       "      <td>...</td>\n",
       "      <td>...</td>\n",
       "      <td>...</td>\n",
       "      <td>...</td>\n",
       "      <td>...</td>\n",
       "    </tr>\n",
       "    <tr>\n",
       "      <th>12495729</th>\n",
       "      <td>62161MM</td>\n",
       "      <td>NY</td>\n",
       "      <td>FORD</td>\n",
       "      <td>1111A</td>\n",
       "      <td>3RD AVE</td>\n",
       "      <td>BR</td>\n",
       "    </tr>\n",
       "    <tr>\n",
       "      <th>12495730</th>\n",
       "      <td>GYE7330</td>\n",
       "      <td>NY</td>\n",
       "      <td>HONDA</td>\n",
       "      <td>0444P</td>\n",
       "      <td>PELHAM PARK DR</td>\n",
       "      <td>BLK</td>\n",
       "    </tr>\n",
       "    <tr>\n",
       "      <th>12495731</th>\n",
       "      <td>HNY4802</td>\n",
       "      <td>NY</td>\n",
       "      <td>FORD</td>\n",
       "      <td>0210A</td>\n",
       "      <td>LYDIG AVE</td>\n",
       "      <td>GY</td>\n",
       "    </tr>\n",
       "    <tr>\n",
       "      <th>12495732</th>\n",
       "      <td>T687081C</td>\n",
       "      <td>NY</td>\n",
       "      <td>TOYOT</td>\n",
       "      <td>0225P</td>\n",
       "      <td>E 68 STREET</td>\n",
       "      <td>BLK</td>\n",
       "    </tr>\n",
       "    <tr>\n",
       "      <th>12495733</th>\n",
       "      <td>3497ZN</td>\n",
       "      <td>WA</td>\n",
       "      <td>UTILI</td>\n",
       "      <td>0456A</td>\n",
       "      <td>W/S/O 182 STREET</td>\n",
       "      <td>WHITE</td>\n",
       "    </tr>\n",
       "  </tbody>\n",
       "</table>\n",
       "<p>12048375 rows × 6 columns</p>\n",
       "</div>"
      ],
      "text/plain": [
       "          Plate ID Registration State Vehicle Make Violation Time  \\\n",
       "0           J58JKX                 NJ        HONDA          0523P   \n",
       "1          KRE6058                 PA        ME/BE          0428P   \n",
       "2          444326R                 NJ        LEXUS          0625A   \n",
       "4          FMY9090                 NY         JEEP          1253A   \n",
       "5          KDG0693                 PA         HYUN          0525P   \n",
       "...            ...                ...          ...            ...   \n",
       "12495729   62161MM                 NY         FORD          1111A   \n",
       "12495730   GYE7330                 NY        HONDA          0444P   \n",
       "12495731   HNY4802                 NY         FORD          0210A   \n",
       "12495732  T687081C                 NY        TOYOT          0225P   \n",
       "12495733    3497ZN                 WA        UTILI          0456A   \n",
       "\n",
       "               Street Name Vehicle Color  \n",
       "0                    43 ST            BK  \n",
       "1                 UNION ST           BLK  \n",
       "2          CLERMONT AVENUE         BLACK  \n",
       "4                 GRAND ST          GREY  \n",
       "5                  B 99 ST            GY  \n",
       "...                    ...           ...  \n",
       "12495729           3RD AVE            BR  \n",
       "12495730    PELHAM PARK DR           BLK  \n",
       "12495731         LYDIG AVE            GY  \n",
       "12495732       E 68 STREET           BLK  \n",
       "12495733  W/S/O 182 STREET         WHITE  \n",
       "\n",
       "[12048375 rows x 6 columns]"
      ]
     },
     "execution_count": 28,
     "metadata": {},
     "output_type": "execute_result"
    }
   ],
   "source": [
    "df2"
   ]
  },
  {
   "cell_type": "markdown",
   "id": "37926086",
   "metadata": {},
   "source": [
    "### question 4 nombre  des lignes supprimées"
   ]
  },
  {
   "cell_type": "code",
   "execution_count": 33,
   "id": "ae9b1514",
   "metadata": {},
   "outputs": [
    {
     "name": "stdout",
     "output_type": "stream",
     "text": [
      "Nombre de contraventions comportant des informations manquantes:  447359\n"
     ]
    }
   ],
   "source": [
    "print(\"Nombre de contraventions comportant des informations manquantes: \",\n",
    "      len(df)-len(df2))\n",
    "nbr=len(df)-len(df2)"
   ]
  },
  {
   "cell_type": "markdown",
   "id": "2b82c998",
   "metadata": {},
   "source": [
    "### question 5 montant perdu  à cause des lignes supprimées"
   ]
  },
  {
   "cell_type": "code",
   "execution_count": 34,
   "id": "720f5852",
   "metadata": {},
   "outputs": [
    {
     "name": "stdout",
     "output_type": "stream",
     "text": [
      "Montant perdu:  44735900\n"
     ]
    }
   ],
   "source": [
    "print(\"Montant perdu: \",nbr *100)\n"
   ]
  },
  {
   "cell_type": "markdown",
   "id": "59b6bd1d",
   "metadata": {},
   "source": [
    "### question 6"
   ]
  },
  {
   "cell_type": "code",
   "execution_count": 36,
   "id": "ad043fb2",
   "metadata": {},
   "outputs": [
    {
     "data": {
      "text/html": [
       "<div>\n",
       "<style scoped>\n",
       "    .dataframe tbody tr th:only-of-type {\n",
       "        vertical-align: middle;\n",
       "    }\n",
       "\n",
       "    .dataframe tbody tr th {\n",
       "        vertical-align: top;\n",
       "    }\n",
       "\n",
       "    .dataframe thead th {\n",
       "        text-align: right;\n",
       "    }\n",
       "</style>\n",
       "<table border=\"1\" class=\"dataframe\">\n",
       "  <thead>\n",
       "    <tr style=\"text-align: right;\">\n",
       "      <th></th>\n",
       "      <th>Plate ID</th>\n",
       "      <th>Registration State</th>\n",
       "      <th>Vehicle Make</th>\n",
       "      <th>Violation Time</th>\n",
       "      <th>Street Name</th>\n",
       "      <th>Vehicle Color</th>\n",
       "    </tr>\n",
       "  </thead>\n",
       "  <tbody>\n",
       "    <tr>\n",
       "      <th>0</th>\n",
       "      <td>J58JKX</td>\n",
       "      <td>NJ</td>\n",
       "      <td>HONDA</td>\n",
       "      <td>0523P</td>\n",
       "      <td>43 ST</td>\n",
       "      <td>BK</td>\n",
       "    </tr>\n",
       "    <tr>\n",
       "      <th>1</th>\n",
       "      <td>KRE6058</td>\n",
       "      <td>PA</td>\n",
       "      <td>ME/BE</td>\n",
       "      <td>0428P</td>\n",
       "      <td>UNION ST</td>\n",
       "      <td>BLK</td>\n",
       "    </tr>\n",
       "    <tr>\n",
       "      <th>2</th>\n",
       "      <td>444326R</td>\n",
       "      <td>NJ</td>\n",
       "      <td>LEXUS</td>\n",
       "      <td>0625A</td>\n",
       "      <td>CLERMONT AVENUE</td>\n",
       "      <td>BLACK</td>\n",
       "    </tr>\n",
       "    <tr>\n",
       "      <th>3</th>\n",
       "      <td>F728330</td>\n",
       "      <td>OH</td>\n",
       "      <td>CHEVR</td>\n",
       "      <td>1106A</td>\n",
       "      <td>DIVISION AVE</td>\n",
       "      <td>NaN</td>\n",
       "    </tr>\n",
       "    <tr>\n",
       "      <th>4</th>\n",
       "      <td>FMY9090</td>\n",
       "      <td>NY</td>\n",
       "      <td>JEEP</td>\n",
       "      <td>1253A</td>\n",
       "      <td>GRAND ST</td>\n",
       "      <td>GREY</td>\n",
       "    </tr>\n",
       "    <tr>\n",
       "      <th>...</th>\n",
       "      <td>...</td>\n",
       "      <td>...</td>\n",
       "      <td>...</td>\n",
       "      <td>...</td>\n",
       "      <td>...</td>\n",
       "      <td>...</td>\n",
       "    </tr>\n",
       "    <tr>\n",
       "      <th>12495729</th>\n",
       "      <td>62161MM</td>\n",
       "      <td>NY</td>\n",
       "      <td>FORD</td>\n",
       "      <td>1111A</td>\n",
       "      <td>3RD AVE</td>\n",
       "      <td>BR</td>\n",
       "    </tr>\n",
       "    <tr>\n",
       "      <th>12495730</th>\n",
       "      <td>GYE7330</td>\n",
       "      <td>NY</td>\n",
       "      <td>HONDA</td>\n",
       "      <td>0444P</td>\n",
       "      <td>PELHAM PARK DR</td>\n",
       "      <td>BLK</td>\n",
       "    </tr>\n",
       "    <tr>\n",
       "      <th>12495731</th>\n",
       "      <td>HNY4802</td>\n",
       "      <td>NY</td>\n",
       "      <td>FORD</td>\n",
       "      <td>0210A</td>\n",
       "      <td>LYDIG AVE</td>\n",
       "      <td>GY</td>\n",
       "    </tr>\n",
       "    <tr>\n",
       "      <th>12495732</th>\n",
       "      <td>T687081C</td>\n",
       "      <td>NY</td>\n",
       "      <td>TOYOT</td>\n",
       "      <td>0225P</td>\n",
       "      <td>E 68 STREET</td>\n",
       "      <td>BLK</td>\n",
       "    </tr>\n",
       "    <tr>\n",
       "      <th>12495733</th>\n",
       "      <td>3497ZN</td>\n",
       "      <td>WA</td>\n",
       "      <td>UTILI</td>\n",
       "      <td>0456A</td>\n",
       "      <td>W/S/O 182 STREET</td>\n",
       "      <td>WHITE</td>\n",
       "    </tr>\n",
       "  </tbody>\n",
       "</table>\n",
       "<p>12431949 rows × 6 columns</p>\n",
       "</div>"
      ],
      "text/plain": [
       "          Plate ID Registration State Vehicle Make Violation Time  \\\n",
       "0           J58JKX                 NJ        HONDA          0523P   \n",
       "1          KRE6058                 PA        ME/BE          0428P   \n",
       "2          444326R                 NJ        LEXUS          0625A   \n",
       "3          F728330                 OH        CHEVR          1106A   \n",
       "4          FMY9090                 NY         JEEP          1253A   \n",
       "...            ...                ...          ...            ...   \n",
       "12495729   62161MM                 NY         FORD          1111A   \n",
       "12495730   GYE7330                 NY        HONDA          0444P   \n",
       "12495731   HNY4802                 NY         FORD          0210A   \n",
       "12495732  T687081C                 NY        TOYOT          0225P   \n",
       "12495733    3497ZN                 WA        UTILI          0456A   \n",
       "\n",
       "               Street Name Vehicle Color  \n",
       "0                    43 ST            BK  \n",
       "1                 UNION ST           BLK  \n",
       "2          CLERMONT AVENUE         BLACK  \n",
       "3             DIVISION AVE           NaN  \n",
       "4                 GRAND ST          GREY  \n",
       "...                    ...           ...  \n",
       "12495729           3RD AVE            BR  \n",
       "12495730    PELHAM PARK DR           BLK  \n",
       "12495731         LYDIG AVE            GY  \n",
       "12495732       E 68 STREET           BLK  \n",
       "12495733  W/S/O 182 STREET         WHITE  \n",
       "\n",
       "[12431949 rows x 6 columns]"
      ]
     },
     "execution_count": 36,
     "metadata": {},
     "output_type": "execute_result"
    }
   ],
   "source": [
    "df6=df.dropna(subset=['Plate ID','Registration State','Vehicle Make','Street Name'])\n",
    "df6"
   ]
  },
  {
   "cell_type": "markdown",
   "id": "9e127c4a",
   "metadata": {},
   "source": [
    "### question 7"
   ]
  },
  {
   "cell_type": "code",
   "execution_count": 37,
   "id": "f94d565c",
   "metadata": {},
   "outputs": [
    {
     "name": "stdout",
     "output_type": "stream",
     "text": [
      "Nombre de contraventions comportant des informations manquantes:  63785\n"
     ]
    }
   ],
   "source": [
    "nbr1=len(df)-len(df6)\n",
    "print(\"Nombre de contraventions comportant des informations manquantes: \",\n",
    "      nbr1)"
   ]
  },
  {
   "cell_type": "markdown",
   "id": "78e771b8",
   "metadata": {},
   "source": [
    "### question 8"
   ]
  },
  {
   "cell_type": "code",
   "execution_count": 38,
   "id": "a5979858",
   "metadata": {},
   "outputs": [
    {
     "name": "stdout",
     "output_type": "stream",
     "text": [
      "Montant perdu:  6378500\n"
     ]
    }
   ],
   "source": [
    "print(\"Montant perdu: \",nbr1 *100)"
   ]
  },
  {
   "cell_type": "markdown",
   "id": "ee8b9f1d",
   "metadata": {},
   "source": [
    "### question 9"
   ]
  },
  {
   "cell_type": "code",
   "execution_count": 39,
   "id": "07d02444",
   "metadata": {},
   "outputs": [
    {
     "data": {
      "text/html": [
       "<div>\n",
       "<style scoped>\n",
       "    .dataframe tbody tr th:only-of-type {\n",
       "        vertical-align: middle;\n",
       "    }\n",
       "\n",
       "    .dataframe tbody tr th {\n",
       "        vertical-align: top;\n",
       "    }\n",
       "\n",
       "    .dataframe thead th {\n",
       "        text-align: right;\n",
       "    }\n",
       "</style>\n",
       "<table border=\"1\" class=\"dataframe\">\n",
       "  <thead>\n",
       "    <tr style=\"text-align: right;\">\n",
       "      <th></th>\n",
       "      <th>Plate ID</th>\n",
       "      <th>Registration State</th>\n",
       "      <th>Vehicle Make</th>\n",
       "      <th>Violation Time</th>\n",
       "      <th>Street Name</th>\n",
       "      <th>Vehicle Color</th>\n",
       "    </tr>\n",
       "  </thead>\n",
       "  <tbody>\n",
       "    <tr>\n",
       "      <th>0</th>\n",
       "      <td>J58JKX</td>\n",
       "      <td>NJ</td>\n",
       "      <td>HONDA</td>\n",
       "      <td>0523P</td>\n",
       "      <td>43 ST</td>\n",
       "      <td>BK</td>\n",
       "    </tr>\n",
       "    <tr>\n",
       "      <th>1</th>\n",
       "      <td>KRE6058</td>\n",
       "      <td>PA</td>\n",
       "      <td>ME/BE</td>\n",
       "      <td>0428P</td>\n",
       "      <td>UNION ST</td>\n",
       "      <td>BLK</td>\n",
       "    </tr>\n",
       "    <tr>\n",
       "      <th>2</th>\n",
       "      <td>444326R</td>\n",
       "      <td>NJ</td>\n",
       "      <td>LEXUS</td>\n",
       "      <td>0625A</td>\n",
       "      <td>CLERMONT AVENUE</td>\n",
       "      <td>BLACK</td>\n",
       "    </tr>\n",
       "    <tr>\n",
       "      <th>3</th>\n",
       "      <td>F728330</td>\n",
       "      <td>OH</td>\n",
       "      <td>CHEVR</td>\n",
       "      <td>1106A</td>\n",
       "      <td>DIVISION AVE</td>\n",
       "      <td>NaN</td>\n",
       "    </tr>\n",
       "    <tr>\n",
       "      <th>4</th>\n",
       "      <td>FMY9090</td>\n",
       "      <td>NY</td>\n",
       "      <td>JEEP</td>\n",
       "      <td>1253A</td>\n",
       "      <td>GRAND ST</td>\n",
       "      <td>GREY</td>\n",
       "    </tr>\n",
       "    <tr>\n",
       "      <th>...</th>\n",
       "      <td>...</td>\n",
       "      <td>...</td>\n",
       "      <td>...</td>\n",
       "      <td>...</td>\n",
       "      <td>...</td>\n",
       "      <td>...</td>\n",
       "    </tr>\n",
       "    <tr>\n",
       "      <th>12495729</th>\n",
       "      <td>62161MM</td>\n",
       "      <td>NY</td>\n",
       "      <td>FORD</td>\n",
       "      <td>1111A</td>\n",
       "      <td>3RD AVE</td>\n",
       "      <td>BR</td>\n",
       "    </tr>\n",
       "    <tr>\n",
       "      <th>12495730</th>\n",
       "      <td>GYE7330</td>\n",
       "      <td>NY</td>\n",
       "      <td>HONDA</td>\n",
       "      <td>0444P</td>\n",
       "      <td>PELHAM PARK DR</td>\n",
       "      <td>BLK</td>\n",
       "    </tr>\n",
       "    <tr>\n",
       "      <th>12495731</th>\n",
       "      <td>HNY4802</td>\n",
       "      <td>NY</td>\n",
       "      <td>FORD</td>\n",
       "      <td>0210A</td>\n",
       "      <td>LYDIG AVE</td>\n",
       "      <td>GY</td>\n",
       "    </tr>\n",
       "    <tr>\n",
       "      <th>12495732</th>\n",
       "      <td>T687081C</td>\n",
       "      <td>NY</td>\n",
       "      <td>TOYOT</td>\n",
       "      <td>0225P</td>\n",
       "      <td>E 68 STREET</td>\n",
       "      <td>BLK</td>\n",
       "    </tr>\n",
       "    <tr>\n",
       "      <th>12495733</th>\n",
       "      <td>3497ZN</td>\n",
       "      <td>WA</td>\n",
       "      <td>UTILI</td>\n",
       "      <td>0456A</td>\n",
       "      <td>W/S/O 182 STREET</td>\n",
       "      <td>WHITE</td>\n",
       "    </tr>\n",
       "  </tbody>\n",
       "</table>\n",
       "<p>12494116 rows × 6 columns</p>\n",
       "</div>"
      ],
      "text/plain": [
       "          Plate ID Registration State Vehicle Make Violation Time  \\\n",
       "0           J58JKX                 NJ        HONDA          0523P   \n",
       "1          KRE6058                 PA        ME/BE          0428P   \n",
       "2          444326R                 NJ        LEXUS          0625A   \n",
       "3          F728330                 OH        CHEVR          1106A   \n",
       "4          FMY9090                 NY         JEEP          1253A   \n",
       "...            ...                ...          ...            ...   \n",
       "12495729   62161MM                 NY         FORD          1111A   \n",
       "12495730   GYE7330                 NY        HONDA          0444P   \n",
       "12495731   HNY4802                 NY         FORD          0210A   \n",
       "12495732  T687081C                 NY        TOYOT          0225P   \n",
       "12495733    3497ZN                 WA        UTILI          0456A   \n",
       "\n",
       "               Street Name Vehicle Color  \n",
       "0                    43 ST            BK  \n",
       "1                 UNION ST           BLK  \n",
       "2          CLERMONT AVENUE         BLACK  \n",
       "3             DIVISION AVE           NaN  \n",
       "4                 GRAND ST          GREY  \n",
       "...                    ...           ...  \n",
       "12495729           3RD AVE            BR  \n",
       "12495730    PELHAM PARK DR           BLK  \n",
       "12495731         LYDIG AVE            GY  \n",
       "12495732       E 68 STREET           BLK  \n",
       "12495733  W/S/O 182 STREET         WHITE  \n",
       "\n",
       "[12494116 rows x 6 columns]"
      ]
     },
     "execution_count": 39,
     "metadata": {},
     "output_type": "execute_result"
    }
   ],
   "source": [
    "df9=df.dropna(subset=['Plate ID','Registration State','Street Name'])\n",
    "df9"
   ]
  },
  {
   "cell_type": "markdown",
   "id": "4075416a",
   "metadata": {},
   "source": [
    "### question 10"
   ]
  },
  {
   "cell_type": "code",
   "execution_count": 40,
   "id": "16d2b59f",
   "metadata": {},
   "outputs": [
    {
     "name": "stdout",
     "output_type": "stream",
     "text": [
      "Nombre de contraventions comportant des informations manquantes:  1618\n"
     ]
    }
   ],
   "source": [
    "nbr2=len(df)-len(df9)\n",
    "print(\"Nombre de contraventions comportant des informations manquantes: \",\n",
    "      nbr2)"
   ]
  },
  {
   "cell_type": "markdown",
   "id": "a51188e0",
   "metadata": {},
   "source": [
    "### question 11"
   ]
  },
  {
   "cell_type": "code",
   "execution_count": 41,
   "id": "e411f1b4",
   "metadata": {},
   "outputs": [
    {
     "name": "stdout",
     "output_type": "stream",
     "text": [
      "Montant perdu:  161800\n"
     ]
    }
   ],
   "source": [
    "print(\"Montant perdu: \",nbr2 *100)"
   ]
  },
  {
   "cell_type": "code",
   "execution_count": null,
   "id": "b9d5a859",
   "metadata": {},
   "outputs": [],
   "source": []
  }
 ],
 "metadata": {
  "kernelspec": {
   "display_name": "Python 3 (ipykernel)",
   "language": "python",
   "name": "python3"
  },
  "language_info": {
   "codemirror_mode": {
    "name": "ipython",
    "version": 3
   },
   "file_extension": ".py",
   "mimetype": "text/x-python",
   "name": "python",
   "nbconvert_exporter": "python",
   "pygments_lexer": "ipython3",
   "version": "3.11.3"
  }
 },
 "nbformat": 4,
 "nbformat_minor": 5
}
